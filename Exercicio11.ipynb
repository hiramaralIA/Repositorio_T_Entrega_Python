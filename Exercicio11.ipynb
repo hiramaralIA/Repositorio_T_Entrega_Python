{
  "cells": [
    {
      "cell_type": "markdown",
      "metadata": {
        "id": "view-in-github",
        "colab_type": "text"
      },
      "source": [
        "<a href=\"https://colab.research.google.com/github/RodrigoItachi/Repositorio_T_Entrega_Python/blob/rodrigo_tarde/Exercicio11.ipynb\" target=\"_parent\"><img src=\"https://colab.research.google.com/assets/colab-badge.svg\" alt=\"Open In Colab\"/></a>"
      ]
    },
    {
      "cell_type": "code",
      "execution_count": null,
      "id": "5217e51a",
      "metadata": {
        "id": "5217e51a",
        "outputId": "63400ea0-ab5d-4fcb-c693-abbf1dc137e9"
      },
      "outputs": [
        {
          "name": "stdout",
          "output_type": "stream",
          "text": [
            "Faturamento Pepsi:  1950.0\n",
            "Faturamento Coca:  2250.0\n",
            "Lucro loja:  1700.0\n",
            "Margem:  0.40476190476190477\n"
          ]
        }
      ],
      "source": [
        "# Crie um programa que imprima (print) os principais indicadores da loja Hashtag&Drink no último ano. \n",
        "# Obs: faça tudo usando variáveis.\n",
        "# Valores do último ano:\n",
        "# Quantidade de Vendas de Coca = 150\n",
        "# Quantidade de Vendas de Pepsi = 130\n",
        "# Preço Unitário da Coca = 1,50\n",
        "# Preço Unitário da Pepsi = 1,50\n",
        "# Custo da Loja: 2.500,00\n",
        "\n",
        "qtddVendCoca = 150\n",
        "qtddVendPepsi = 130\n",
        "preUniCoca = 1.5\n",
        "preUniPepsi = 1.5\n",
        "custoLoja = 2500.0\n",
        "\n",
        "fatPepsi = qtddVendPepsi * preUniPepsi\n",
        "print(\"Faturamento Pepsi: \",fatPepsi)\n",
        "\n",
        "fatCoca = qtddVendCoca * preUniCoca\n",
        "print(\"Faturamento Coca: \",fatCoca)\n",
        "\n",
        "lucroLoja =  (fatPepsi + fatCoca) - custoLoja\n",
        "print(\"Lucro loja: \", lucroLoja)\n",
        "\n",
        "margem = lucroLoja / (fatPepsi + fatCoca)\n",
        "print(\"Margem: \", margem)"
      ]
    },
    {
      "cell_type": "code",
      "execution_count": 2,
      "metadata": {
        "colab": {
          "base_uri": "https://localhost:8080/"
        },
        "outputId": "3bbeb38f-a73a-439e-dfdc-2a14ae063287",
        "id": "PIIfjF4g9t7U"
      },
      "outputs": [
        {
          "output_type": "stream",
          "name": "stdout",
          "text": [
            "Informe o código da bebida para saber se é alcolica ou não: BAC1546001\n",
            "Bebidas alcoolicas\n"
          ]
        }
      ],
      "source": [
        "# Parte 2 - Inputs e Strings\n",
        "\n",
        "# A maioria das empresas trabalham com um Código para cada produto que possuem. A Hashtag&Drink, \n",
        "# por exemplo, tem mais de 1.000 produtos e possui um código para cada produto. \n",
        "# Ex: Coca -> Código: BEB1300543\n",
        "# Pepsi -> Código: BEB1300545\n",
        "# Vinho Primitivo Lucarelli -> Código: BAC1546001\n",
        "# Vodka Smirnoff -> Código: BAC17675002\n",
        "\n",
        "# Repare que todas as bebidas não alcóolicas tem o início do Código \"BEB\" e todas \n",
        "# as bebidas alcóolicas tem o início do código \"BAC\".\n",
        "\n",
        "# Crie um programa de consulta de bebida que, dado um código qualquer, identifique se \n",
        "# a bebida é alcóolica. O programa deve responder True para bebidas alcóolicas e False para bebidas não alcóolicas. \n",
        "# Para inserir um código, use um input.\n",
        "\n",
        "# Dica: Lembre-se do comando in para strings e sempre insira os códigos com letra maiúscula para facilitar.\n",
        "\n",
        "\n",
        "codigo = str(input(\"Informe o código da bebida para saber se é alcolica ou não: \"))\n",
        "if \"BEB\" in codigo:\n",
        "  print(\"Bebidas não alcóolicas\")\n",
        "elif\"BAC\"in codigo:\n",
        "  print(\"Bebidas alcoolicas\")"
      ],
      "id": "PIIfjF4g9t7U"
    }
  ],
  "metadata": {
    "kernelspec": {
      "display_name": "Python 3 (ipykernel)",
      "language": "python",
      "name": "python3"
    },
    "language_info": {
      "codemirror_mode": {
        "name": "ipython",
        "version": 3
      },
      "file_extension": ".py",
      "mimetype": "text/x-python",
      "name": "python",
      "nbconvert_exporter": "python",
      "pygments_lexer": "ipython3",
      "version": "3.9.7"
    },
    "colab": {
      "name": "Exercicio11.ipynb",
      "provenance": [],
      "collapsed_sections": [],
      "include_colab_link": true
    }
  },
  "nbformat": 4,
  "nbformat_minor": 5
}