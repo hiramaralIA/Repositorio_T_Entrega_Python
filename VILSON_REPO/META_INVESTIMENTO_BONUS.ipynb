{
 "cells": [
  {
   "cell_type": "code",
   "execution_count": 2,
   "id": "e83ba1be",
   "metadata": {},
   "outputs": [
    {
     "name": "stdout",
     "output_type": "stream",
     "text": [
      "###########Meta da quantidade de vendas:  50000 produtos vendidos\n",
      "Digite a quantiade de produtos que foram vendidos:  755000\n",
      "Vencemos, batemos a metaa!!!\n"
     ]
    }
   ],
   "source": [
    "\"\"\"\n",
    "Condições no Python -> If\n",
    "Primeiro Exemplo Real:\n",
    "\"\"\"\n",
    "\n",
    "meta=50000\n",
    "print(f\"###########Meta da quantidade de vendas:  {meta} produtos vendidos\")\n",
    "qte_vendida = int(input(\"Digite a quantiade de produtos que foram vendidos:  \"))\n",
    "\n",
    "if qte_vendida > meta:\n",
    "    print(\"Vencemos, batemos a metaa!!!\")\n",
    "    \n",
    "else:\n",
    "    print(\"Não conseguimos dessa vez, mas não vamos desistir\")"
   ]
  },
  {
   "cell_type": "code",
   "execution_count": 6,
   "id": "d5df5842",
   "metadata": {
    "scrolled": true
   },
   "outputs": [
    {
     "name": "stdout",
     "output_type": "stream",
     "text": [
      "O fundo se compromete a entregar no mínimo 5% de retorno ao ano.\n",
      "\n",
      "Se tiver menos que 5% de retorno, sem taxa sobre o retorno\n",
      "\n",
      "Se tiver retorno acima de 5%, taxa de 2% no valor\n",
      "\n",
      "Se tiver retorno acima de 20%, tadxa de 4% no valor\n",
      "\n",
      "INFORME QUAL FOI SUA PORCENTAGEM DE RETORNO: 25\n",
      "Seu retorno tera taxa de 4%\n"
     ]
    }
   ],
   "source": [
    "\"\"\"\n",
    "Blocos e Identação\n",
    "Várias ações em 1 if:\n",
    "\n",
    "Vamos fazer um novo exemplo abaixo:\n",
    "\n",
    "Digamos que você precisa criar um programa para um fundo de investimentos conseguir avaliar o resultado de uma carteira de ações e o quanto de taxa deverá ser pago.\n",
    "\n",
    "A regra desse fundo de investimentos é:\n",
    "\n",
    "O fundo se compromete a entregar no mínimo 5% de retorno ao ano.\n",
    "Caso o fundo não consiga entregar os 5% de retorno, ele não pode cobrar taxa dos seus investidores.\n",
    "Caso o fundo consiga entregar mais de 5% de retorno, ele irá cobrar 2% de taxa dos seus investidores.\n",
    "Caso o fundo consiga mais de 20% de retorno, ele irá cobrar 4% de taxa dos seus investidores.\n",
    "\"\"\"\n",
    "\n",
    "print(\"O fundo se compromete a entregar no mínimo 5% de retorno ao ano.\\n\")\n",
    "print(\"Se tiver menos que 5% de retorno, sem taxa sobre o retorno\\n\")\n",
    "print(\"Se tiver retorno acima de 5%, taxa de 2% no valor\\n\")\n",
    "print(\"Se tiver retorno acima de 20%, tadxa de 4% no valor\\n\")\n",
    "\n",
    "\n",
    "x = int(input('INFORME QUAL FOI SUA PORCENTAGEM DE RETORNO: '))\n",
    "\n",
    "if x >= 5 and x <= 20:\n",
    "    print(\"Seu retorno tera uma taxa de 2%\")\n",
    "elif x > 20 :\n",
    "    print(\"Seu retorno tera taxa de 4%\")\n",
    "elif x < 5:\n",
    "    print(\"Seu retorno não será taxado\")\n",
    "else:\n",
    "    print(\"Digite um valor valido\")"
   ]
  },
  {
   "cell_type": "code",
   "execution_count": 12,
   "id": "514c9d77",
   "metadata": {},
   "outputs": [
    {
     "name": "stdout",
     "output_type": "stream",
     "text": [
      "Digite seu valor de vendas em reais: 20000\n",
      "Você atingiu a meta, sera de 600.0\n"
     ]
    }
   ],
   "source": [
    "\"\"\"\n",
    "Vamos criar um programa para analisar o bônus dos funcionários de uma empresa (pode parecer \"simples\", mas uma empresa como a Amazon tem 900.000 funcionários)\n",
    "\n",
    "Para os cargos de vendedores, a regra do bônus é de acordo com a meta de vendas da pessoa:\n",
    "\n",
    "Se ela vendeu abaixo da meta dela, ela não ganha bônus.\n",
    "\n",
    "Se ela vendeu acima da meta dela, ela ganha como bônus 3% do valor que ela vendeu.\n",
    "\n",
    "Se ela vendeu mais do que o dobro da meta dela, ela ganha como bônus 7% do valor que ela vendeu.\n",
    "\n",
    "Vamos criar um programa para avaliar uma pessoa que tinha como meta de vendas 20.000 reais e calcular o bônus dela de acordo com o valor de vendas que ela tiver.\n",
    "\"\"\"\n",
    "\n",
    "meta = 20000\n",
    "\n",
    "venda = float(input(\"Digite seu valor de vendas em reais: \"))\n",
    "\n",
    "if venda >= meta:\n",
    "    bonus = (venda*0.03)\n",
    "    print(f\"Você atingiu a meta, seu bonus sera de {bonus}\")\n",
    "elif venda > (meta*2):\n",
    "    bonus = (venda*0.07)\n",
    "    print(f\"Você dobrou a meta, seu bonus será de {bonus}\")\n",
    "else:\n",
    "    print(\"Você infelizmente não atingiu a meta, não temos nenhum bonus pra você\")\n",
    "    \n",
    "    "
   ]
  },
  {
   "cell_type": "code",
   "execution_count": null,
   "id": "011b1d1d",
   "metadata": {},
   "outputs": [],
   "source": []
  }
 ],
 "metadata": {
  "kernelspec": {
   "display_name": "Python 3 (ipykernel)",
   "language": "python",
   "name": "python3"
  },
  "language_info": {
   "codemirror_mode": {
    "name": "ipython",
    "version": 3
   },
   "file_extension": ".py",
   "mimetype": "text/x-python",
   "name": "python",
   "nbconvert_exporter": "python",
   "pygments_lexer": "ipython3",
   "version": "3.9.7"
  }
 },
 "nbformat": 4,
 "nbformat_minor": 5
}
