{
 "cells": [
  {
   "cell_type": "code",
   "execution_count": null,
   "id": "c8158068",
   "metadata": {
    "scrolled": true
   },
   "outputs": [
    {
     "name": "stdout",
     "output_type": "stream",
     "text": [
      "Digite o codigo da bebida: BEB1300543\n",
      "Bebida selecionada: COCA-COLA\n",
      "CATEGORIA: NÃO-ALCOOLICA\n",
      "Digite o codigo da bebida: BAC17675002\n",
      "Bebida selecionada: Vodka Smirnoff\n",
      "CATEGORIA: ALCOOLICA\n"
     ]
    }
   ],
   "source": [
    "\"\"\"\n",
    "Parte 2 - Inputs e Strings\n",
    "\n",
    "A maioria das empresas trabalham com um Código para cada produto que possuem. A Hashtag&Drink, por exemplo, tem mais de 1.000 produtos e possui um código para cada produto. Ex: Coca -> Código: BEB1300543\n",
    "Pepsi -> Código: BEB1300545\n",
    "Vinho Primitivo Lucarelli -> Código: BAC1546001\n",
    "Vodka Smirnoff -> Código: BAC17675002\n",
    "\n",
    "Repare que todas as bebidas não alcóolicas tem o início do Código \"BEB\" e todas as bebidas alcóolicas tem o início do código \"BAC\".\n",
    "Crie um programa de consulta de bebida que, dado um código qualquer, identifique se a bebida é alcóolica. O programa deve responder True para bebidas alcóolicas e False para bebidas não alcóolicas. Para inserir um código, use um input.\n",
    "Dica: Lembre-se do comando in para strings e sempre insira os códigos com letra maiúscula para facilitar.\n",
    "In [ ]:\n",
    "\n",
    "\"\"\"\n",
    "for i in range (5):\n",
    "   \n",
    "    c = str(input(\"Digite o codigo da bebida: \"))\n",
    "    \n",
    "    if c == 'BEB1300543':\n",
    "        print(\"Bebida selecionada: COCA-COLA\")\n",
    "        print(\"CATEGORIA: NÃO-ALCOOLICA\")\n",
    "    elif c == 'BEB1300545':\n",
    "        print(\"Bebida selecionada: PEPSI\")\n",
    "        print(\"CATEGORIA: NÃO-ALCOOLICA\")\n",
    "    elif c == 'BAC1546001':\n",
    "        print(\"Bebida selecionada: Vinho Primitivo Lucarelli\")\n",
    "        print(\"CATEGORIA: ALCOOLICA\")\n",
    "    elif c == 'BAC17675002':\n",
    "        print(\"Bebida selecionada: Vodka Smirnoff\")\n",
    "        print(\"CATEGORIA: ALCOOLICA\")\n",
    "        \n",
    "    else:\n",
    "        print(\"Digite um codigo valido\")"
   ]
  },
  {
   "cell_type": "code",
   "execution_count": null,
   "id": "ae6db452",
   "metadata": {},
   "outputs": [],
   "source": []
  }
 ],
 "metadata": {
  "kernelspec": {
   "display_name": "Python 3 (ipykernel)",
   "language": "python",
   "name": "python3"
  },
  "language_info": {
   "codemirror_mode": {
    "name": "ipython",
    "version": 3
   },
   "file_extension": ".py",
   "mimetype": "text/x-python",
   "name": "python",
   "nbconvert_exporter": "python",
   "pygments_lexer": "ipython3",
   "version": "3.9.7"
  }
 },
 "nbformat": 4,
 "nbformat_minor": 5
}
