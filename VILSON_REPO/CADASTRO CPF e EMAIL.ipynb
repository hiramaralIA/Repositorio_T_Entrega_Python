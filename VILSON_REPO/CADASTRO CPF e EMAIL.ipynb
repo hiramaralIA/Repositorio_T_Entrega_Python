{
 "cells": [
  {
   "cell_type": "code",
   "execution_count": null,
   "id": "3842cb46",
   "metadata": {},
   "outputs": [],
   "source": [
    "\"\"\"\n",
    "CADASTRO DE CPF\n",
    "\"\"\"\n",
    "\n",
    "cpf = input('Insira seu CPF (apenas numeros)')\n",
    "\n",
    "if len(cpf) == 11 and cpf.isnumeric():\n",
    "    print(f\"O CPF digitado foi: {cpf} \")\n",
    "else:\n",
    "    print('Erro ao digitar CPF, digite apenas ou numeros ou um CPF valido')\n",
    "\n"
   ]
  },
  {
   "cell_type": "code",
   "execution_count": 1,
   "id": "74133107",
   "metadata": {
    "scrolled": false
   },
   "outputs": [
    {
     "name": "stdout",
     "output_type": "stream",
     "text": [
      "Insira seu CPF: 052.566.888-25\n",
      "CPF corretamente cadastrado, numero recebido: 05256688825\n",
      "Deseja cadastrar outro cpf ? Aperte enter enter para continuar\n",
      "Insira seu CPF: 888.444.666-99\n",
      "CPF corretamente cadastrado, numero recebido: 88844466699\n",
      "Deseja cadastrar outro cpf ? Aperte enter enter para continuar\n",
      "Insira seu CPF: 456.693.482-78\n",
      "CPF corretamente cadastrado, numero recebido: 45669348278\n",
      "Deseja cadastrar outro cpf ? Aperte enter enter para continuar\n",
      "Quantidade de cadastros limite atingida\n"
     ]
    }
   ],
   "source": [
    "\"\"\"\n",
    "ATUALIZAÇÃO DO CODIGO CADASTRO DE CPF\n",
    "\"\"\"\n",
    "\n",
    "listCPF = [0,0,0]\n",
    "for i in range(3):\n",
    "\n",
    "    cpf = input('Insira seu CPF: ')\n",
    "\n",
    "#tratar o cpf\n",
    "\n",
    "#tirar espaços no inicio e no final\n",
    "    cpf = cpf.strip()\n",
    "#tirar os . (pontos)\n",
    "    cpf = cpf.replace('.', '')\n",
    "#tirar os traços (-)\n",
    "    cpf = cpf.replace('-', '')\n",
    "\n",
    "    if len(cpf) == 11 and cpf.isnumeric():\n",
    "        print(f\"CPF corretamente cadastrado, numero recebido: {cpf}\")\n",
    "    else:\n",
    "        print('Digite seu CPF corretamente e digite apenas números')\n",
    "    \n",
    "    botao = input(\"Deseja cadastrar outro cpf ? Aperte enter enter para continuar\")\n",
    "    if botao == \" \" :\n",
    "        listCPF += cpf\n",
    "        \n",
    "print(\"Quantidade de cadastros limite atingida\")"
   ]
  },
  {
   "cell_type": "code",
   "execution_count": null,
   "id": "fbc1e4fc",
   "metadata": {},
   "outputs": [],
   "source": [
    "\"\"\"\n",
    "Cadastro de e-mails\n",
    "\"\"\"\n",
    "\n",
    "nome = input('Digite seu nome: ')\n",
    "email = input('Digite o seu e-mail: ')\n",
    "\n",
    "if nome and email:\n",
    "    pos_a = email.find('@')\n",
    "    servidor = email[pos_a:]\n",
    "    if pos_a != -1 and '.' in servidor:\n",
    "        print('Cadastro concluído')\n",
    "    else:\n",
    "        print('Email inválido')\n",
    "else:\n",
    "    print('Digite seu nome e e-mail corretamente') "
   ]
  }
 ],
 "metadata": {
  "kernelspec": {
   "display_name": "Python 3 (ipykernel)",
   "language": "python",
   "name": "python3"
  },
  "language_info": {
   "codemirror_mode": {
    "name": "ipython",
    "version": 3
   },
   "file_extension": ".py",
   "mimetype": "text/x-python",
   "name": "python",
   "nbconvert_exporter": "python",
   "pygments_lexer": "ipython3",
   "version": "3.9.7"
  }
 },
 "nbformat": 4,
 "nbformat_minor": 5
}
