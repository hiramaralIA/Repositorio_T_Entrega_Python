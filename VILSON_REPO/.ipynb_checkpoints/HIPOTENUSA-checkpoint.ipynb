{
 "cells": [
  {
   "cell_type": "code",
   "execution_count": 2,
   "id": "a546a7da",
   "metadata": {},
   "outputs": [
    {
     "name": "stdout",
     "output_type": "stream",
     "text": [
      "Hipotenusa => h**2=a**2 + b**2\n",
      "Digite o valor de A: 5\n",
      "Digite o valor de B: 6\n",
      "O valor da hipotenusa é: 7.810249675906654\n"
     ]
    }
   ],
   "source": [
    "import math\n",
    "\"\"\"\n",
    "\"\"\"\n",
    "\n",
    "print(\"Hipotenusa => h**2=a**2 + b**2\")\n",
    "\n",
    "a = float(input(\"Digite o valor de A: \"))\n",
    "b = float(input(\"Digite o valor de B: \"))\n",
    "\n",
    "\n",
    "h = math.sqrt(a**2 + b**2)\n",
    "\n",
    "print(f\"O valor da hipotenusa é: {h}\")"
   ]
  },
  {
   "cell_type": "code",
   "execution_count": null,
   "id": "c9554b43",
   "metadata": {},
   "outputs": [],
   "source": []
  }
 ],
 "metadata": {
  "kernelspec": {
   "display_name": "Python 3 (ipykernel)",
   "language": "python",
   "name": "python3"
  },
  "language_info": {
   "codemirror_mode": {
    "name": "ipython",
    "version": 3
   },
   "file_extension": ".py",
   "mimetype": "text/x-python",
   "name": "python",
   "nbconvert_exporter": "python",
   "pygments_lexer": "ipython3",
   "version": "3.9.7"
  }
 },
 "nbformat": 4,
 "nbformat_minor": 5
}
