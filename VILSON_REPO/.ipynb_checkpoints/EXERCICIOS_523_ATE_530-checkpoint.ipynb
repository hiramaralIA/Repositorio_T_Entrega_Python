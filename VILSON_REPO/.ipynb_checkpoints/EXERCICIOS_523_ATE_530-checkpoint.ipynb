{
 "cells": [
  {
   "cell_type": "code",
   "execution_count": 1,
   "id": "073c539e",
   "metadata": {},
   "outputs": [
    {
     "name": "stdout",
     "output_type": "stream",
     "text": [
      "a == b ? False\n",
      "b > b ? True\n",
      "a < b ? True\n",
      "a == d ? False\n",
      "b >= a ? True\n",
      "c <= b ? True\n",
      "d != a ? False\n",
      "d != b ? True\n"
     ]
    }
   ],
   "source": [
    "\"\"\"\n",
    "Exercício 5.23 – Escreva o código da figura 5.5 de modo a armazenar os valores lógicos em\n",
    "variáveis, e após isso, mostrar o resultado como na figura mencionada.\n",
    "\"\"\"\n",
    "\n",
    "a = 1\n",
    "b = 5\n",
    "c = 2\n",
    "d = 1\n",
    "\n",
    "v1 = a == b\n",
    "v2 = b > a \n",
    "v3 = a < b\n",
    "v4 = a == b\n",
    "v5 = b >= a\n",
    "v6 = c <= b\n",
    "v7 = d != a\n",
    "v8 = d != b\n",
    "\n",
    "\n",
    "print(\"a == b ?\", v1)\n",
    "print(\"b > b ?\", v2)\n",
    "print(\"a < b ?\", v3)\n",
    "print(\"a == d ?\", v4)\n",
    "print(\"b >= a ?\", v5)\n",
    "print(\"c <= b ?\", v6)\n",
    "print(\"d != a ?\", v7)\n",
    "print(\"d != b ?\", v8)"
   ]
  },
  {
   "cell_type": "code",
   "execution_count": 3,
   "id": "b7c44e57",
   "metadata": {},
   "outputs": [
    {
     "name": "stdout",
     "output_type": "stream",
     "text": [
      "Digite sua idade ?15\n",
      "Você é menor de idade !!!\n"
     ]
    }
   ],
   "source": [
    "\"\"\"\n",
    "Exercício 5.24 – Construa um programa em python que tenha como entrada a idade de uma\n",
    "pessoa, e diga se ela é maior ou menor de idade.\n",
    "\"\"\"\n",
    "x = int(input(\"Digite sua idade ?\"))\n",
    "\n",
    "if x < 18:\n",
    "    print(\"Você é menor de idade !!!\")\n",
    "    \n",
    "else:\n",
    "    print(\"Você é maior de idade !!!\")"
   ]
  },
  {
   "cell_type": "code",
   "execution_count": 4,
   "id": "ea166f3d",
   "metadata": {},
   "outputs": [
    {
     "name": "stdout",
     "output_type": "stream",
     "text": [
      "Digite a 1° nota :8\n",
      "Digite a 2° nota :8\n",
      "Digite a 3° nota :8\n",
      "Digite a 4° nota :8\n",
      "Você foi aporvado, pode seguir para o proximo ano!!!!!\n"
     ]
    }
   ],
   "source": [
    "\"\"\"\n",
    "Exercício 5.25 – Construa um programa em python que lei as 4 notas de um aluno e diga se\n",
    "ele foi aprovado ou não. Considere que para ser aprovado, necessita que a média das notas\n",
    "seja igual ou maior que 8.\n",
    "\"\"\"\n",
    "\n",
    "n1 = float(input(\"Digite a 1° nota :\"))\n",
    "n2 = float(input(\"Digite a 2° nota :\"))\n",
    "n3 = float(input(\"Digite a 3° nota :\"))\n",
    "n4 = float(input(\"Digite a 4° nota :\"))\n",
    "\n",
    "media = (n1+n2+n3+n4)/4\n",
    "\n",
    "if media < 8:\n",
    "    print(\"Você foi reprovado, esta de recuperação!!!!!\")\n",
    "    \n",
    "else:\n",
    "    print(\"Você foi aporvado, pode seguir para o proximo ano!!!!!\")"
   ]
  },
  {
   "cell_type": "code",
   "execution_count": 6,
   "id": "68ee2a84",
   "metadata": {},
   "outputs": [
    {
     "name": "stdout",
     "output_type": "stream",
     "text": [
      "Me dê distancia percorrida em km: 10\n",
      "Me a quantidade em listros do combustivel consumido: 16\n",
      "O carro é economico !!!!!\n"
     ]
    }
   ],
   "source": [
    "\"\"\"\n",
    "Exercício 5.26 – Construa um programa em python que diga se um carro é econômico ou não.\n",
    "Para isso, tenha como entrada os parâmetros distância percorrida e quantidade, em litros, de\n",
    "combustível consumido. Para o carro ser econômico, considere que o consumo (distância\n",
    "percorrida / quantidade de combustível consumido) deve ser maior ou igual a 18.\n",
    "\"\"\"\n",
    "\n",
    "dp = float(input(\"Me dê distancia percorrida em km: \"))\n",
    "l = float(input(\"Me a quantidade em listros do combustivel consumido: \"))\n",
    "consumo =  dp/l\n",
    "\n",
    "if consumo <= 18:\n",
    "    print(\"O carro é economico !!!!!\")\n",
    "\n",
    "else:\n",
    "    print(\"O carro não é economico !!!!\")\n"
   ]
  },
  {
   "cell_type": "code",
   "execution_count": 9,
   "id": "c291eb0f",
   "metadata": {},
   "outputs": [
    {
     "name": "stdout",
     "output_type": "stream",
     "text": [
      "Digite um numero: 10\n",
      "Este é um numero par\n"
     ]
    }
   ],
   "source": [
    "\"\"\"\n",
    "Exercício 5.27 – Construa um programa em python que diga se um número é par ou não.\n",
    "Obs.: a função % (resto da divisão) será útil nessa tarefa.\n",
    "\"\"\"\n",
    "\n",
    "n1 = float(input(\"Digite um numero: \"))\n",
    "\n",
    "\n",
    "div = n1%2\n",
    "\n",
    "if div == 0:\n",
    "    print(\"Este é um numero par\")\n",
    "    \n",
    "else:\n",
    "    print(\"Este é um numero impar\")"
   ]
  },
  {
   "cell_type": "code",
   "execution_count": 10,
   "id": "869b6ba4",
   "metadata": {},
   "outputs": [
    {
     "name": "stdout",
     "output_type": "stream",
     "text": [
      "Digite um numero: 10\n",
      "Este é um numero par\n"
     ]
    }
   ],
   "source": [
    "\"\"\"\n",
    "Exercício 5.2 - Construa um programa em python que diga se um número é ímpar ou não.\n",
    "Obs.: a função % (resto da divisão) será útil nessa tarefa.\n",
    "\"\"\"\n",
    "\n",
    "n1 = float(input(\"Digite um numero: \"))\n",
    "\n",
    "\n",
    "div = n1%2\n",
    "\n",
    "if div != 0:\n",
    "    print(\"Este é um numero impar\")\n",
    "    \n",
    "else:\n",
    "    print(\"Este é um numero par\")"
   ]
  },
  {
   "cell_type": "code",
   "execution_count": 2,
   "id": "178a743e",
   "metadata": {},
   "outputs": [
    {
     "name": "stdout",
     "output_type": "stream",
     "text": [
      "Digite seu salario em R$: 1500\n",
      "Você tem um salario de: 1500.0R$, portanto, deve pagar impostos IRPF\n"
     ]
    }
   ],
   "source": [
    "\"\"\"\n",
    "Exercício 5.28 - Escreva uma expressão, em python, para determinar se uma pessoa deve ou\n",
    "não pagar imposto. Considere que pagam imposto pessoas cujo salário é maior que R$\n",
    "1.200,00.\n",
    "\"\"\"\n",
    "\n",
    "x = float(input(\"Digite seu salario em R$: \"))\n",
    "\n",
    "if x >= 1200:\n",
    "    print(f\"Você tem um salario de: {x}R$, portanto, deve pagar impostos IRPF\")\n",
    "else:\n",
    "    print(f\"Você tem salario no valor de: {x},portanto,Você esta isento de imposto IRPF :)!!!\")"
   ]
  },
  {
   "cell_type": "code",
   "execution_count": null,
   "id": "016f5857",
   "metadata": {},
   "outputs": [],
   "source": [
    "\"\"\"\n",
    "Exercício 5.29 - Calcule o resultado da expressão A > B and C or D, utilizando os valores da\n",
    "tabela a seguir.\n",
    "\"\"\"\n",
    "\n"
   ]
  },
  {
   "cell_type": "code",
   "execution_count": 4,
   "id": "c62914da",
   "metadata": {},
   "outputs": [
    {
     "name": "stdout",
     "output_type": "stream",
     "text": [
      "Digite a 1° nota: 6\n",
      "Digite a 2° nota: 6\n",
      "Digite a 3° nota: 6\n",
      "Uma das suas medias é menor que 7, então, você esta automaticamente REPROVADO\n"
     ]
    }
   ],
   "source": [
    "\"\"\"\n",
    "Exercício 5.30 - Escreva uma expressão que será utilizada para decidir se um aluno foi ou não\n",
    "aprovado. Para ser aprovado, todas as médias do aluno devem ser maiores que 7. Considere\n",
    "que o aluno cursa apenas três matérias, e que a nota de cada uma está armazenada nas\n",
    "seguintes variáveis: matéria1, matéria2 e matéria3.\n",
    "\"\"\"\n",
    "#m = materia\n",
    "\n",
    "m1=float(input(\"Digite a 1° nota: \"))\n",
    "m2=float(input(\"Digite a 2° nota: \"))\n",
    "m3=float(input(\"Digite a 3° nota: \"))\n",
    "\n",
    "if m1<7 and m2<7 and m3<7:\n",
    "    print(\"Uma das suas medias é menor que 7, então, você esta automaticamente REPROVADO\")\n",
    "    \n",
    "else:\n",
    "    print(\"Todas as suas notas estão acima ou na media, portanto, você esta APROVADO\")\n",
    "    "
   ]
  },
  {
   "cell_type": "code",
   "execution_count": null,
   "id": "7d5494b8",
   "metadata": {},
   "outputs": [],
   "source": [
    "\"\"\"\n",
    "\n",
    "\"\"\""
   ]
  }
 ],
 "metadata": {
  "kernelspec": {
   "display_name": "Python 3 (ipykernel)",
   "language": "python",
   "name": "python3"
  },
  "language_info": {
   "codemirror_mode": {
    "name": "ipython",
    "version": 3
   },
   "file_extension": ".py",
   "mimetype": "text/x-python",
   "name": "python",
   "nbconvert_exporter": "python",
   "pygments_lexer": "ipython3",
   "version": "3.9.7"
  }
 },
 "nbformat": 4,
 "nbformat_minor": 5
}
