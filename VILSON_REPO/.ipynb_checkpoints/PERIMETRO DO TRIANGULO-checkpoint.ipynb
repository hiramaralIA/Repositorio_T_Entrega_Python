{
 "cells": [
  {
   "cell_type": "code",
   "execution_count": 1,
   "id": "6a4eb9e4",
   "metadata": {},
   "outputs": [
    {
     "name": "stdout",
     "output_type": "stream",
     "text": [
      "Calcule o perímetro do triângulo retângulo a seguir sabendo que\n",
      "a altura é 3m e a base 6m: \n",
      "Perimetro é a soma de todas as medidas: O perimetro desse triangulo é 9 metros\n"
     ]
    }
   ],
   "source": [
    "print(\"Calcule o perímetro do triângulo retângulo a seguir sabendo que\")\n",
    "print(\"a altura é 3m e a base 6m: \")\n",
    "\n",
    "a = 3\n",
    "b = 6\n",
    "\n",
    "print(f\"Perimetro é a soma de todas as medidas: O perimetro desse triangulo é {a + b} metros\")"
   ]
  },
  {
   "cell_type": "code",
   "execution_count": null,
   "id": "c465c0b2",
   "metadata": {},
   "outputs": [],
   "source": []
  }
 ],
 "metadata": {
  "kernelspec": {
   "display_name": "Python 3 (ipykernel)",
   "language": "python",
   "name": "python3"
  },
  "language_info": {
   "codemirror_mode": {
    "name": "ipython",
    "version": 3
   },
   "file_extension": ".py",
   "mimetype": "text/x-python",
   "name": "python",
   "nbconvert_exporter": "python",
   "pygments_lexer": "ipython3",
   "version": "3.9.7"
  }
 },
 "nbformat": 4,
 "nbformat_minor": 5
}
