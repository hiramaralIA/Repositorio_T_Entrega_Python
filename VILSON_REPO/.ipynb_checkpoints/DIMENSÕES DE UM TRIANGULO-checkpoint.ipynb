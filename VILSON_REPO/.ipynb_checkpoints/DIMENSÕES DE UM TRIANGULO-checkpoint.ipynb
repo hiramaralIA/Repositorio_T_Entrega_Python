{
 "cells": [
  {
   "cell_type": "code",
   "execution_count": 2,
   "id": "b1beebaf",
   "metadata": {},
   "outputs": [
    {
     "name": "stdout",
     "output_type": "stream",
     "text": [
      "Digite a base: 5\n",
      "Digite a altura: 5\n",
      "DIMENSÕES DE UM TRIANGULO\n",
      "\n",
      "Base = 5.0\n",
      "Altura = 5.0\n",
      "Area do triangulo é: 12.5\n"
     ]
    }
   ],
   "source": [
    "b = float(input(\"Digite a base: \"))\n",
    "a = float(input(\"Digite a altura: \"))\n",
    "\n",
    "print(\"DIMENSÕES DE UM TRIANGULO\\n\")\n",
    "\n",
    "print(f\"Base = {b}\")\n",
    "print(f\"Altura = {a}\")\n",
    "\n",
    "print(f\"Area do triangulo é: {(b * a)/2}\")"
   ]
  },
  {
   "cell_type": "code",
   "execution_count": null,
   "id": "5df0b34a",
   "metadata": {},
   "outputs": [],
   "source": []
  }
 ],
 "metadata": {
  "kernelspec": {
   "display_name": "Python 3 (ipykernel)",
   "language": "python",
   "name": "python3"
  },
  "language_info": {
   "codemirror_mode": {
    "name": "ipython",
    "version": 3
   },
   "file_extension": ".py",
   "mimetype": "text/x-python",
   "name": "python",
   "nbconvert_exporter": "python",
   "pygments_lexer": "ipython3",
   "version": "3.9.7"
  }
 },
 "nbformat": 4,
 "nbformat_minor": 5
}
