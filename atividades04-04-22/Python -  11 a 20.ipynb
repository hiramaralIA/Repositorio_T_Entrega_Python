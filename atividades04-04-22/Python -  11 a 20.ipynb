{
 "cells": [
  {
   "cell_type": "code",
   "execution_count": 1,
   "id": "8decf3f5",
   "metadata": {},
   "outputs": [
    {
     "data": {
      "text/plain": [
       "610"
      ]
     },
     "execution_count": 1,
     "metadata": {},
     "output_type": "execute_result"
    }
   ],
   "source": [
    "#Exercício 5.1:\n",
    "\n",
    "10 + 20 * 30"
   ]
  },
  {
   "cell_type": "code",
   "execution_count": 2,
   "id": "88c51583",
   "metadata": {},
   "outputs": [
    {
     "data": {
      "text/plain": [
       "1.4"
      ]
     },
     "execution_count": 2,
     "metadata": {},
     "output_type": "execute_result"
    }
   ],
   "source": [
    "42 / 30"
   ]
  },
  {
   "cell_type": "code",
   "execution_count": 3,
   "id": "3fee1171",
   "metadata": {},
   "outputs": [
    {
     "data": {
      "text/plain": [
       "575"
      ]
     },
     "execution_count": 3,
     "metadata": {},
     "output_type": "execute_result"
    }
   ],
   "source": [
    "(94 + 2) * 6 - 1"
   ]
  },
  {
   "cell_type": "code",
   "execution_count": 4,
   "id": "860a9e60",
   "metadata": {},
   "outputs": [
    {
     "data": {
      "text/plain": [
       "107"
      ]
     },
     "execution_count": 4,
     "metadata": {},
     "output_type": "execute_result"
    }
   ],
   "source": [
    "((10+8)*(10-4)) - 1\n"
   ]
  },
  {
   "cell_type": "code",
   "execution_count": 5,
   "id": "5b6d25f7",
   "metadata": {},
   "outputs": [
    {
     "data": {
      "text/plain": [
       "40745.7"
      ]
     },
     "execution_count": 5,
     "metadata": {},
     "output_type": "execute_result"
    }
   ],
   "source": [
    "(((1500+((100-9)/10))*9))*3"
   ]
  },
  {
   "cell_type": "code",
   "execution_count": 6,
   "id": "feecedc0",
   "metadata": {},
   "outputs": [
    {
     "data": {
      "text/plain": [
       "81.0"
      ]
     },
     "execution_count": 6,
     "metadata": {},
     "output_type": "execute_result"
    }
   ],
   "source": [
    "#Exercício 5.2: \n",
    "10 % 3 * 10 ** 2 + 1 - 10 * 4 / 2"
   ]
  },
  {
   "cell_type": "code",
   "execution_count": 7,
   "id": "00061aed",
   "metadata": {},
   "outputs": [
    {
     "name": "stdout",
     "output_type": "stream",
     "text": [
      "Digite seu nome: Gabriel \n",
      "Gabriel \n"
     ]
    }
   ],
   "source": [
    "#Exercício 5.3: \n",
    "x=input(\"Digite seu nome: \")\n",
    "print(x)"
   ]
  },
  {
   "cell_type": "code",
   "execution_count": 9,
   "id": "070f1bd0",
   "metadata": {},
   "outputs": [
    {
     "ename": "SyntaxError",
     "evalue": "EOL while scanning string literal (Temp/ipykernel_15456/819831067.py, line 9)",
     "output_type": "error",
     "traceback": [
      "\u001b[1;36m  File \u001b[1;32m\"C:\\Users\\aluno11\\AppData\\Local\\Temp/ipykernel_15456/819831067.py\"\u001b[1;36m, line \u001b[1;32m9\u001b[0m\n\u001b[1;33m    print(f\"2{} )\u001b[0m\n\u001b[1;37m                 ^\u001b[0m\n\u001b[1;31mSyntaxError\u001b[0m\u001b[1;31m:\u001b[0m EOL while scanning string literal\n"
     ]
    }
   ],
   "source": [
    "#Exercício 5.4\n",
    "\n",
    "a = 3\n",
    "b = 5\n",
    "\n",
    "print(f\"2{} )"
   ]
  },
  {
   "cell_type": "markdown",
   "id": "70c67e16",
   "metadata": {},
   "source": [
    "#Exercício 5.5\n",
    "\n",
    "a = int(input(\"Digite o 1° numero: \"))\n",
    "b = int(input(\"Digite o 2° numero: \"))\n",
    "c = int(input(\"Digite o 3° numero: \"))\n",
    "\n",
    "print(a + b + c)"
   ]
  },
  {
   "cell_type": "code",
   "execution_count": null,
   "id": "fbe66a1c",
   "metadata": {},
   "outputs": [],
   "source": [
    "#Exercício 5.6\n",
    "\n",
    "salario = int(input(\"Digite o salario: \"))\n",
    "aumento = int(input(\"Digte o valor do aumento: \"))\n",
    "print(salario + (salario*aumento/100))"
   ]
  },
  {
   "cell_type": "code",
   "execution_count": null,
   "id": "9b0e8c6a",
   "metadata": {},
   "outputs": [],
   "source": [
    "#Exercício 5.7 \n",
    "x=int(input(\"Digite o valor em metros: \"))\n",
    "\n",
    "print(f\"O seu valor em centimentos é: {x*100}\")"
   ]
  },
  {
   "cell_type": "code",
   "execution_count": null,
   "id": "7adf4411",
   "metadata": {},
   "outputs": [],
   "source": [
    "#Exercício 5.8\n",
    "\n",
    "x = int(input(\"Digite um numero: \"))\n",
    "\n",
    "for i in range(1,11):\n",
    "    print(x, 'x', i, '=', (x*i))"
   ]
  },
  {
   "cell_type": "code",
   "execution_count": null,
   "id": "300c9025",
   "metadata": {},
   "outputs": [],
   "source": [
    "#Exercício 5.9\n",
    "\n",
    "x = int(input(\"Digite a primeira nota: \"))\n",
    "y = int(input(\"Digite a segunda nota: \"))\n",
    "\n",
    "media = (x+y)/2\n",
    "\n",
    "print(f\"A media aritmetica é: {media}\")"
   ]
  },
  {
   "cell_type": "code",
   "execution_count": null,
   "id": "b82419b3",
   "metadata": {},
   "outputs": [],
   "source": [
    "Exercício 5.10\n",
    "\n",
    "salario = float(input(\"Digite o valor do seu salario,por favor: \"))\n",
    "\n",
    "print(\"#####Situação 1#####\")\n",
    "print(f\"Salario reajustado em 5%: {salario+(salario * 5/100)}\\n\")\n",
    "\n",
    "print(\"#####Situação 2#####\")\n",
    "print(f\"Salario reajustado em 10%: {salario+(salario * 10/100)}\\n\")\n",
    "\n",
    "print(\"#####Situação 3#####\")\n",
    "print(f\"Salario reajustado em 15%: {salario+(salario * 15/100)}\\n\""
   ]
  }
 ],
 "metadata": {
  "kernelspec": {
   "display_name": "Python 3 (ipykernel)",
   "language": "python",
   "name": "python3"
  },
  "language_info": {
   "codemirror_mode": {
    "name": "ipython",
    "version": 3
   },
   "file_extension": ".py",
   "mimetype": "text/x-python",
   "name": "python",
   "nbconvert_exporter": "python",
   "pygments_lexer": "ipython3",
   "version": "3.9.7"
  }
 },
 "nbformat": 4,
 "nbformat_minor": 5
}
