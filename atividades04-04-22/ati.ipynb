{
 "cells": [
  {
   "cell_type": "code",
   "execution_count": null,
   "id": "95d8dd01",
   "metadata": {},
   "outputs": [],
   "source": [
    "#Exercício 5.11: Faça um programa que receba dois números e exiba o resultado da sua soma.\n",
    "\n",
    "x = int(input(\"Digite a primeira var: \"))\n",
    "y = int(input(\"Digite a segunda var: \"))\n",
    "\n",
    "soma = x + y\n",
    "\n",
    "print(f\"A soam dos numeros {x} e {y} será igual a: {soma}\")"
   ]
  },
  {
   "cell_type": "code",
   "execution_count": null,
   "id": "5752e142",
   "metadata": {},
   "outputs": [],
   "source": [
    "\"\"\"\n",
    "Exercício 5.12: Faça um programa que receba dois números e ao final mostre a soma, \n",
    "subtração, multiplicação e a divisão dos números lidos\n",
    "\"\"\"\n",
    "x = float(input(\"Digite a primeira var: \"))\n",
    "y = float(input(\"Digite a segunda var: \"))\n",
    "\n",
    "print(f\"Soma: {x + y}\")\n",
    "print(f\"Subtração {x - y}\")\n",
    "print(f\"Multiplicação {x * y}\")\n",
    "print(f\"Divisão: {x / y}\")"
   ]
  },
  {
   "cell_type": "code",
   "execution_count": null,
   "id": "42e360ab",
   "metadata": {},
   "outputs": [],
   "source": [
    "\"\"\"\n",
    "Exercício 5.13: Escrever um programa para determinar o consumo médio de um automóvel \n",
    "sendo fornecida a distância total percorrida pelo automóvel e o total de combustível gasto.\n",
    "\"\"\"\n",
    "d = float(input(\"Digite a distancia percorrida em quilometros: \"))\n",
    "cg = float(input(\"Digite a quantidade de combustivel gasto em litros: \"))\n",
    "\n",
    "consumo = d / cg\n",
    "\n",
    "print(f\"\\nO motorista possui um consumo medio de {consumo} km/l \")"
   ]
  },
  {
   "cell_type": "code",
   "execution_count": null,
   "id": "e3467d35",
   "metadata": {},
   "outputs": [],
   "source": [
    "\"\"\"\n",
    "Exercício 5.14: Escrever um programa que leia o nome de um vendedor, o seu salário fixo e o \n",
    "total de vendas efetuadas por ele no mês (em dinheiro). Sabendo que este vendedor ganha \n",
    "15% de comissão sobre suas vendas efetuadas, informar o seu nome, o salário fixo e salário \n",
    "no final do mês\n",
    "\"\"\"\n",
    "\n",
    "nome = input(\"Nome do vendedor: \")\n",
    "sfixo = float(input(\"Digite seu salario fixo: \"))\n",
    "\n",
    "sfinal =  sfixo + (sfixo * 15/100)\n",
    "\n",
    "print(f\"Nome: {nome}\")\n",
    "print(f\"Salario fixo: {sfixo}\")\n",
    "print(f\"Salario final = salario fixo + 15% de comissão: {sfinal}\")"
   ]
  },
  {
   "cell_type": "code",
   "execution_count": null,
   "id": "33baa1d5",
   "metadata": {},
   "outputs": [],
   "source": [
    "\"\"\"\n",
    "Exercício 5.15: Escrever um programa que leia o nome de um aluno e as notas das três provas \n",
    "que ele obteve no semestre. No final informar o nome do aluno e a sua média (aritmética).\n",
    "\"\"\"\n",
    "\n",
    "nome = input(\"Digite seu nome: \")\n",
    "n1 = float(input(\"Digite a sua primeira nota: \"))\n",
    "n2 = float(input(\"Digite a sua segunda nota: \"))\n",
    "n3 = float(input(\"Digite a sua terceira nota: \"))\n",
    "\n",
    "media = (n1+ n2 +n3)/3\n",
    "\n",
    "if media >= 7:\n",
    "    print(\"APROVADO\")\n",
    "else:\n",
    "    print(\"REPROVADO\")\n"
   ]
  },
  {
   "cell_type": "code",
   "execution_count": null,
   "id": "67a9c7f8",
   "metadata": {},
   "outputs": [],
   "source": [
    "\"\"\"\n",
    "Exercício 5.16: Ler dois valores para as variáveis A e B, e efetuar as trocas dos valores de \n",
    "forma que a variável A passe a possuir o valor da variável B e a variável B passe a possuir o \n",
    "valor da variável A. Apresentar os valores.\n",
    "\"\"\"\n",
    "\n",
    "a = int(input(\"Digite um valor para A: \"))\n",
    "b = int(input(\"Digite um valor para B: \"))\n",
    "\n",
    "print(f\"Valor de A antes: {a}\")\n",
    "print(f\"Valor de B antes: {b}\\n\")\n",
    "\n",
    "troca = a\n",
    "a = b\n",
    "b = troca\n",
    "\n",
    "print(f\"Valor de A agora: {a}\")\n",
    "print(f\"Valor de B agora: {b}\")"
   ]
  },
  {
   "cell_type": "code",
   "execution_count": null,
   "id": "bdd3513a",
   "metadata": {},
   "outputs": [],
   "source": [
    "\"\"\"\n",
    "Exercício 5.17: Ler uma temperatura em graus Celsius e apresentá-la convertida em graus \n",
    "Fahrenheit. A fórmula de conversão é: F=(9*C+160) / 5, sendo F a temperatura em Fahrenheit \n",
    "e C a temperatura em Celsius\n",
    "\"\"\"\n",
    "\n",
    "c = float(input(\"Digite a temperatura em graus Celsius: \"))\n",
    "\n",
    "f = ((9*c)+160)/5\n",
    "\n",
    "print(f\"A temperatura que você digitou em Celsiu é {c}°C\")\n",
    "print(f\"Fazendo a conversão, teremos em graus Fahrenheit: {f}°F\")"
   ]
  },
  {
   "cell_type": "code",
   "execution_count": null,
   "id": "5c3b51be",
   "metadata": {},
   "outputs": [],
   "source": [
    "\"\"\"\n",
    "Exercício 5.18: Elaborar um programa que efetue a apresentação do valor da conversão em \n",
    "real (R$) de um valor lido em dólar (US$). O algoritmo deverá solicitar o valor da cotação do \n",
    "dólar e a quantidade de dólares disponíveis com o usuário.\n",
    "\"\"\"\n",
    "\n",
    "cd = float(input(\"Qual o valor do dolar hoje em reais  ?\"))\n",
    "d = float(input(\"Quantos dolares você tem disónivel ?\"))\n",
    "\n",
    "real = cd * d\n",
    "\n",
    "print(f\"Fazendo a conversão, você possui, em reais, um valor total de {real}R$\")"
   ]
  },
  {
   "cell_type": "code",
   "execution_count": null,
   "id": "7c37cfab",
   "metadata": {},
   "outputs": [],
   "source": [
    "\"\"\"\n",
    "Exercício 5.19: Faça um programa que receba um valor que foi depositado e exiba o valor \n",
    "com rendimento após um mês. Considere fixo o juro da poupança em 0,70% a. m.\n",
    "\"\"\"\n",
    "\n",
    "x = float(input(\"Insira o valor a ser depositado: \"))\n",
    "print(\"Em um mês, o juro do rendimento é de 0.70%\")\n",
    "\n",
    "rendimento =  x + (x*70/100)\n",
    "\n",
    "print(f\"O valor, com rendimento de 0,70%, ao ser retirado após um mês será de {rendimento}R$\")"
   ]
  },
  {
   "cell_type": "code",
   "execution_count": null,
   "id": "377021f2",
   "metadata": {},
   "outputs": [],
   "source": [
    "\"\"\"\n",
    "Exercício 5.20: A Loja Mamão com Açúcar está vendendo seus produtos em 5 (cinco) \n",
    "prestações sem juros. Faça um Programa que receba um valor de uma compra e mostre o \n",
    "valor das prestações.\n",
    "\"\"\"\n",
    "\n",
    "v = float(input(\"Digite o valor da sua compra: \"))\n",
    "\n",
    "prestacao = v / 5\n",
    "\n",
    "print(f\"O valor da compra que está em {v}R$ será divido em 5 prestações de {prestacao}R$ por mês\")"
   ]
  },
  {
   "cell_type": "code",
   "execution_count": null,
   "id": "1f06c086",
   "metadata": {},
   "outputs": [],
   "source": []
  }
 ],
 "metadata": {
  "kernelspec": {
   "display_name": "Python 3 (ipykernel)",
   "language": "python",
   "name": "python3"
  },
  "language_info": {
   "codemirror_mode": {
    "name": "ipython",
    "version": 3
   },
   "file_extension": ".py",
   "mimetype": "text/x-python",
   "name": "python",
   "nbconvert_exporter": "python",
   "pygments_lexer": "ipython3",
   "version": "3.9.7"
  }
 },
 "nbformat": 4,
 "nbformat_minor": 5
}
