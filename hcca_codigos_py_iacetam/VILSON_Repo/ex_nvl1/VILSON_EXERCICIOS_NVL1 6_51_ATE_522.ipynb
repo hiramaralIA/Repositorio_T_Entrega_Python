{
 "cells": [
  {
   "cell_type": "code",
   "execution_count": 32,
   "id": "84a7960b",
   "metadata": {},
   "outputs": [
    {
     "data": {
      "text/plain": [
       "610"
      ]
     },
     "execution_count": 32,
     "metadata": {},
     "output_type": "execute_result"
    }
   ],
   "source": [
    "#Exercício 5.1:\n",
    "\n",
    "10 + 20 * 30"
   ]
  },
  {
   "cell_type": "code",
   "execution_count": 2,
   "id": "b7f14c7c",
   "metadata": {},
   "outputs": [
    {
     "data": {
      "text/plain": [
       "1.4"
      ]
     },
     "execution_count": 2,
     "metadata": {},
     "output_type": "execute_result"
    }
   ],
   "source": [
    "42 / 30"
   ]
  },
  {
   "cell_type": "code",
   "execution_count": 3,
   "id": "e3c6be81",
   "metadata": {},
   "outputs": [
    {
     "data": {
      "text/plain": [
       "575"
      ]
     },
     "execution_count": 3,
     "metadata": {},
     "output_type": "execute_result"
    }
   ],
   "source": [
    "(94 + 2) * 6 - 1"
   ]
  },
  {
   "cell_type": "code",
   "execution_count": 4,
   "id": "3942e3a7",
   "metadata": {},
   "outputs": [
    {
     "data": {
      "text/plain": [
       "107"
      ]
     },
     "execution_count": 4,
     "metadata": {},
     "output_type": "execute_result"
    }
   ],
   "source": [
    "((10+8)*(10-4)) - 1"
   ]
  },
  {
   "cell_type": "code",
   "execution_count": 5,
   "id": "f43e493f",
   "metadata": {},
   "outputs": [
    {
     "data": {
      "text/plain": [
       "40745.7"
      ]
     },
     "execution_count": 5,
     "metadata": {},
     "output_type": "execute_result"
    }
   ],
   "source": [
    "(((1500+((100-9)/10))*9))*3"
   ]
  },
  {
   "cell_type": "code",
   "execution_count": 6,
   "id": "3bf532eb",
   "metadata": {},
   "outputs": [
    {
     "data": {
      "text/plain": [
       "81.0"
      ]
     },
     "execution_count": 6,
     "metadata": {},
     "output_type": "execute_result"
    }
   ],
   "source": [
    "#Exercício 5.2: Digite a seguinte expressão no interpretador:\n",
    "10 % 3 * 10 ** 2 + 1 - 10 * 4 / 2"
   ]
  },
  {
   "cell_type": "code",
   "execution_count": 7,
   "id": "481b87ee",
   "metadata": {
    "scrolled": true
   },
   "outputs": [
    {
     "name": "stdout",
     "output_type": "stream",
     "text": [
      "Digite seu nome: Vilson dos Santos Oliveira Filho\n",
      "Vilson dos Santos Oliveira Filho\n"
     ]
    }
   ],
   "source": [
    "#Exercício 5.3: Faça um programa que exiba seu nome na tela.\n",
    "x=input(\"Digite seu nome: \")\n",
    "print(x)"
   ]
  },
  {
   "cell_type": "code",
   "execution_count": 3,
   "id": "beefacb7",
   "metadata": {},
   "outputs": [
    {
     "name": "stdout",
     "output_type": "stream",
     "text": [
      "2.3 x 3.5 = 14\n"
     ]
    }
   ],
   "source": [
    "\"\"\"\n",
    "Exercício 5.4: Escreva um programa que exiba o resultado de 2a × 3b, onde a vale\n",
    "3 e b vale 5\n",
    "\"\"\"\n",
    "\n",
    "a = 3\n",
    "b = 5\n",
    "\n",
    "print(f\"2.{a} x 3.{b} = {2*a + 3+b}\")"
   ]
  },
  {
   "cell_type": "code",
   "execution_count": 8,
   "id": "ad3a42c3",
   "metadata": {
    "scrolled": true
   },
   "outputs": [
    {
     "name": "stdout",
     "output_type": "stream",
     "text": [
      "Digite o 1° numero: 35\n",
      "Digite o 2° numero: 35\n",
      "Digite o 3° numero: 35\n",
      "105\n"
     ]
    }
   ],
   "source": [
    "#Exercício 5.5: Modifique o primeiro programa abaixo, de forma a calcular a soma de três variáveis.\n",
    "a = int(input(\"Digite o 1° numero: \"))\n",
    "b = int(input(\"Digite o 2° numero: \"))\n",
    "c = int(input(\"Digite o 3° numero: \"))\n",
    "\n",
    "print(a + b + c)"
   ]
  },
  {
   "cell_type": "code",
   "execution_count": 17,
   "id": "0bd33ebb",
   "metadata": {},
   "outputs": [
    {
     "name": "stdout",
     "output_type": "stream",
     "text": [
      "Digite o salario: 750\n",
      "Digte o valor do aumento: 15\n",
      "862.5\n"
     ]
    }
   ],
   "source": [
    "#Exercício 5.6: Modifique o programa abaixo, de forma que ele calcule um aumento de 15% para um salário de R$ 750.\n",
    "\n",
    "salario = int(input(\"Digite o salario: \"))\n",
    "aumento = int(input(\"Digte o valor do aumento: \"))\n",
    "print(salario + (salario*aumento/100))"
   ]
  },
  {
   "cell_type": "code",
   "execution_count": 11,
   "id": "abe7b9cd",
   "metadata": {},
   "outputs": [
    {
     "name": "stdout",
     "output_type": "stream",
     "text": [
      "Digite o valor em metros: 2\n",
      "O seu valor em centimentos é: 200\n"
     ]
    }
   ],
   "source": [
    "#Exercício 5.7 : Faça um programa em linguagem Python que converta metros para centímetros.\n",
    "x=int(input(\"Digite o valor em metros: \"))\n",
    "\n",
    "print(f\"O seu valor em centimentos é: {x*100}\")"
   ]
  },
  {
   "cell_type": "code",
   "execution_count": 13,
   "id": "32438c41",
   "metadata": {},
   "outputs": [
    {
     "name": "stdout",
     "output_type": "stream",
     "text": [
      "Digite um numero: 5\n",
      "5 x 1 = 5\n",
      "5 x 2 = 10\n",
      "5 x 3 = 15\n",
      "5 x 4 = 20\n",
      "5 x 5 = 25\n",
      "5 x 6 = 30\n",
      "5 x 7 = 35\n",
      "5 x 8 = 40\n",
      "5 x 9 = 45\n",
      "5 x 10 = 50\n"
     ]
    }
   ],
   "source": [
    "#Exercício 5.8:Faça um programa em Python que leia um valor inteiro e mostre a tabuada de 1 a 10 do valor lido. (Não usar laço de repetição)\n",
    "\n",
    "x = int(input(\"Digite um numero: \"))\n",
    "\n",
    "for i in range(1,11):\n",
    "    print(x, 'x', i, '=', (x*i))"
   ]
  },
  {
   "cell_type": "code",
   "execution_count": 15,
   "id": "f31ce3f1",
   "metadata": {},
   "outputs": [
    {
     "name": "stdout",
     "output_type": "stream",
     "text": [
      "Digite a primeira nota: 7\n",
      "Digite a segunda nota: 7\n",
      "A media aritmetica é: 7.0\n"
     ]
    }
   ],
   "source": [
    "#Exercício 5.9: Faça um programa em linguagem Python que receba duas notas e calcule a média aritmética e mostre o resultado.\n",
    "\n",
    "x = int(input(\"Digite a primeira nota: \"))\n",
    "y = int(input(\"Digite a segunda nota: \"))\n",
    "\n",
    "media = (x+y)/2\n",
    "\n",
    "print(f\"A media aritmetica é: {media}\")"
   ]
  },
  {
   "cell_type": "code",
   "execution_count": null,
   "id": "50b0e5e3",
   "metadata": {},
   "outputs": [],
   "source": [
    "\"\"\"\n",
    "Exercício 5.10: Fazer um programa que ao receber o salário atual de um\n",
    "funcionário, calcule o valor do novo salário reajustado de acordo com as 3\n",
    "situações: salário reajustado em 15%, salario reajustado em 10% e salário\n",
    "reajustado em 5%.\n",
    "\"\"\"\n",
    "salario = float(input(\"Digite o valor do seu salario,por favor: \"))\n",
    "\n",
    "print(\"#####Situação 1#####\")\n",
    "print(f\"Salario reajustado em 5%: {salario+(salario * 5/100)}\\n\")\n",
    "\n",
    "print(\"#####Situação 2#####\")\n",
    "print(f\"Salario reajustado em 10%: {salario+(salario * 10/100)}\\n\")\n",
    "\n",
    "print(\"#####Situação 3#####\")\n",
    "print(f\"Salario reajustado em 15%: {salario+(salario * 15/100)}\\n\")\n"
   ]
  },
  {
   "cell_type": "code",
   "execution_count": 22,
   "id": "d198103c",
   "metadata": {},
   "outputs": [
    {
     "name": "stdout",
     "output_type": "stream",
     "text": [
      "Digite a primeira var: 5\n",
      "Digite a segunda var: 5\n",
      "A soam dos numeros 5 e 5 será igual a: 10\n"
     ]
    }
   ],
   "source": [
    "#Exercício 5.11: Faça um programa que receba dois números e exiba o resultado da sua soma.\n",
    "\n",
    "x = int(input(\"Digite a primeira var: \"))\n",
    "y = int(input(\"Digite a segunda var: \"))\n",
    "\n",
    "soma = x + y\n",
    "\n",
    "print(f\"A soam dos numeros {x} e {y} será igual a: {soma}\")"
   ]
  },
  {
   "cell_type": "code",
   "execution_count": 24,
   "id": "c7802d00",
   "metadata": {},
   "outputs": [
    {
     "name": "stdout",
     "output_type": "stream",
     "text": [
      "Digite a primeira var: 12\n",
      "Digite a segunda var: 6\n",
      "Soma: 18.0\n",
      "Subtração 6.0\n",
      "Multiplicação 72.0\n",
      "Divisão: 2.0\n"
     ]
    }
   ],
   "source": [
    "\"\"\"\n",
    "Exercício 5.12: Faça um programa que receba dois números e ao final mostre a soma, \n",
    "subtração, multiplicação e a divisão dos números lidos\n",
    "\"\"\"\n",
    "x = float(input(\"Digite a primeira var: \"))\n",
    "y = float(input(\"Digite a segunda var: \"))\n",
    "\n",
    "print(f\"Soma: {x + y}\")\n",
    "print(f\"Subtração {x - y}\")\n",
    "print(f\"Multiplicação {x * y}\")\n",
    "print(f\"Divisão: {x / y}\")"
   ]
  },
  {
   "cell_type": "code",
   "execution_count": 33,
   "id": "f3beba20",
   "metadata": {},
   "outputs": [
    {
     "name": "stdout",
     "output_type": "stream",
     "text": [
      "Digite a distancia percorrida em quilometros: 16\n",
      "Digite a quantidade de combustivel gasto em litros: 10\n",
      "\n",
      "O motorista possui um consumo medio de 1.6 km/l \n"
     ]
    }
   ],
   "source": [
    "\"\"\"\n",
    "Exercício 5.13: Escrever um programa para determinar o consumo médio de um automóvel \n",
    "sendo fornecida a distância total percorrida pelo automóvel e o total de combustível gasto.\n",
    "\"\"\"\n",
    "d = float(input(\"Digite a distancia percorrida em quilometros: \"))\n",
    "cg = float(input(\"Digite a quantidade de combustivel gasto em litros: \"))\n",
    "\n",
    "consumo = d / cg\n",
    "\n",
    "print(f\"\\nO motorista possui um consumo medio de {consumo} km/l \")"
   ]
  },
  {
   "cell_type": "code",
   "execution_count": 35,
   "id": "5be7736a",
   "metadata": {},
   "outputs": [
    {
     "name": "stdout",
     "output_type": "stream",
     "text": [
      "Nome do vendedor: V\n",
      "Digite seu salario fixo: 1500\n",
      "Nome: V\n",
      "Salario fixo: 1500.0\n",
      "Salario final = salario fixo + 15% de comissão: 1725.0\n"
     ]
    }
   ],
   "source": [
    "\"\"\"\n",
    "Exercício 5.14: Escrever um programa que leia o nome de um vendedor, o seu salário fixo e o \n",
    "total de vendas efetuadas por ele no mês (em dinheiro). Sabendo que este vendedor ganha \n",
    "15% de comissão sobre suas vendas efetuadas, informar o seu nome, o salário fixo e salário \n",
    "no final do mês\n",
    "\"\"\"\n",
    "\n",
    "nome = input(\"Nome do vendedor: \")\n",
    "sfixo = float(input(\"Digite seu salario fixo: \"))\n",
    "\n",
    "sfinal =  sfixo + (sfixo * 15/100)\n",
    "\n",
    "print(f\"Nome: {nome}\")\n",
    "print(f\"Salario fixo: {sfixo}\")\n",
    "print(f\"Salario final = salario fixo + 15% de comissão: {sfinal}\")"
   ]
  },
  {
   "cell_type": "code",
   "execution_count": 39,
   "id": "b0628f0f",
   "metadata": {
    "scrolled": true
   },
   "outputs": [
    {
     "name": "stdout",
     "output_type": "stream",
     "text": [
      "Digite seu nome: SSADDASDFF\n",
      "Digite a sua primeira nota: 7\n",
      "Digite a sua segunda nota: 7\n",
      "Digite a sua terceira nota: 7\n",
      "APROVADO\n"
     ]
    }
   ],
   "source": [
    "\"\"\"\n",
    "Exercício 5.15: Escrever um programa que leia o nome de um aluno e as notas das três provas \n",
    "que ele obteve no semestre. No final informar o nome do aluno e a sua média (aritmética).\n",
    "\"\"\"\n",
    "\n",
    "nome = input(\"Digite seu nome: \")\n",
    "n1 = float(input(\"Digite a sua primeira nota: \"))\n",
    "n2 = float(input(\"Digite a sua segunda nota: \"))\n",
    "n3 = float(input(\"Digite a sua terceira nota: \"))\n",
    "\n",
    "media = (n1+ n2 +n3)/3\n",
    "\n",
    "if media >= 7:\n",
    "    print(\"APROVADO\")\n",
    "else:\n",
    "    print(\"REPROVADO\")\n",
    "\n",
    "    "
   ]
  },
  {
   "cell_type": "code",
   "execution_count": 40,
   "id": "4cca1083",
   "metadata": {},
   "outputs": [
    {
     "name": "stdout",
     "output_type": "stream",
     "text": [
      "Digite um valor para A: 12\n",
      "Digite um valor para B: 6\n",
      "Valor de A antes: 12\n",
      "Valor de B antes: 6\n",
      "\n",
      "Valor de A agora: 6\n",
      "Valor de B agora: 12\n"
     ]
    }
   ],
   "source": [
    "\"\"\"\n",
    "Exercício 5.16: Ler dois valores para as variáveis A e B, e efetuar as trocas dos valores de \n",
    "forma que a variável A passe a possuir o valor da variável B e a variável B passe a possuir o \n",
    "valor da variável A. Apresentar os valores.\n",
    "\"\"\"\n",
    "\n",
    "a = int(input(\"Digite um valor para A: \"))\n",
    "b = int(input(\"Digite um valor para B: \"))\n",
    "\n",
    "print(f\"Valor de A antes: {a}\")\n",
    "print(f\"Valor de B antes: {b}\\n\")\n",
    "\n",
    "troca = a\n",
    "a = b\n",
    "b = troca\n",
    "\n",
    "print(f\"Valor de A agora: {a}\")\n",
    "print(f\"Valor de B agora: {b}\")\n",
    "\n"
   ]
  },
  {
   "cell_type": "code",
   "execution_count": 41,
   "id": "1d4faa55",
   "metadata": {},
   "outputs": [
    {
     "name": "stdout",
     "output_type": "stream",
     "text": [
      "Digite a temperatura em graus Celsius: 27\n",
      "A temperatura que você digitou em Celsiu é 27.0°C\n",
      "Fazendo a conversão, teremos em graus Fahrenheit: 80.6°F\n"
     ]
    }
   ],
   "source": [
    "\"\"\"\n",
    "Exercício 5.17: Ler uma temperatura em graus Celsius e apresentá-la convertida em graus \n",
    "Fahrenheit. A fórmula de conversão é: F=(9*C+160) / 5, sendo F a temperatura em Fahrenheit \n",
    "e C a temperatura em Celsius\n",
    "\"\"\"\n",
    "\n",
    "c = float(input(\"Digite a temperatura em graus Celsius: \"))\n",
    "\n",
    "f = ((9*c)+160)/5\n",
    "\n",
    "print(f\"A temperatura que você digitou em Celsiu é {c}°C\")\n",
    "print(f\"Fazendo a conversão, teremos em graus Fahrenheit: {f}°F\")\n"
   ]
  },
  {
   "cell_type": "code",
   "execution_count": 44,
   "id": "d2bdbd77",
   "metadata": {},
   "outputs": [
    {
     "name": "stdout",
     "output_type": "stream",
     "text": [
      "Qual o valor do dolar hoje em reais  ?4.47\n",
      "Quantos dolares você tem disónivel ?1500\n",
      "Fazendo a conversão, você possui, em reais, um valor total de 6705.0R$\n"
     ]
    }
   ],
   "source": [
    "\"\"\"\n",
    "Exercício 5.18: Elaborar um programa que efetue a apresentação do valor da conversão em \n",
    "real (R$) de um valor lido em dólar (US$). O algoritmo deverá solicitar o valor da cotação do \n",
    "dólar e a quantidade de dólares disponíveis com o usuário.\n",
    "\"\"\"\n",
    "\n",
    "cd = float(input(\"Qual o valor do dolar hoje em reais  ?\"))\n",
    "d = float(input(\"Quantos dolares você tem disónivel ?\"))\n",
    "\n",
    "real = cd * d\n",
    "\n",
    "print(f\"Fazendo a conversão, você possui, em reais, um valor total de {real}R$\")"
   ]
  },
  {
   "cell_type": "code",
   "execution_count": 45,
   "id": "b87cc9b4",
   "metadata": {},
   "outputs": [
    {
     "name": "stdout",
     "output_type": "stream",
     "text": [
      "Insira o valor a ser depositado: 1500\n",
      "Em um mês, o juro do rendimento é de 0.70%\n",
      "O valor, com rendimento de 0,70%, ao ser retirado após um mês será de 2550.0R$\n"
     ]
    }
   ],
   "source": [
    "\"\"\"\n",
    "Exercício 5.19: Faça um programa que receba um valor que foi depositado e exiba o valor \n",
    "com rendimento após um mês. Considere fixo o juro da poupança em 0,70% a. m.\n",
    "\"\"\"\n",
    "\n",
    "x = float(input(\"Insira o valor a ser depositado: \"))\n",
    "print(\"Em um mês, o juro do rendimento é de 0.70%\")\n",
    "\n",
    "rendimento =  x + (x*70/100)\n",
    "\n",
    "print(f\"O valor, com rendimento de 0,70%, ao ser retirado após um mês será de {rendimento}R$\")"
   ]
  },
  {
   "cell_type": "code",
   "execution_count": 47,
   "id": "4f9c5e2d",
   "metadata": {},
   "outputs": [
    {
     "name": "stdout",
     "output_type": "stream",
     "text": [
      "Digite o valor da sua compra: 1500\n",
      "O valor da compra que está em 1500.0R$ será divido em 5 prestações de 300.0R$ por mês\n"
     ]
    }
   ],
   "source": [
    "\"\"\"\n",
    "Exercício 5.20: A Loja Mamão com Açúcar está vendendo seus produtos em 5 (cinco) \n",
    "prestações sem juros. Faça um Programa que receba um valor de uma compra e mostre o \n",
    "valor das prestações.\n",
    "\"\"\"\n",
    "\n",
    "v = float(input(\"Digite o valor da sua compra: \"))\n",
    "\n",
    "prestacao = v / 5\n",
    "\n",
    "print(f\"O valor da compra que está em {v}R$ será divido em 5 prestações de {prestacao}R$ por mês\")"
   ]
  },
  {
   "cell_type": "code",
   "execution_count": 48,
   "id": "8ecba682",
   "metadata": {},
   "outputs": [
    {
     "name": "stdout",
     "output_type": "stream",
     "text": [
      "Olá, digite o valor de custo do produto: 250.0\n",
      "E qual será a porcentagem de acrescimo para o valor de venda ? 15\n",
      "O valor de custo é250.0R$, somando a porcentagem de acrescimo de 15%\n",
      "O produto a valor de venda custará: 287.5\n"
     ]
    }
   ],
   "source": [
    "\"\"\"\n",
    "Exercício 5.21: Faça um programa que receba o preço de custo de um produto e mostre o \n",
    "valor de venda. Sabe-se que o preço de custo receberá um acréscimo de acordo com um \n",
    "percentual informado pelo usuário.\n",
    "\n",
    "\"\"\"\n",
    "\n",
    "x = float(input(\"Olá, digite o valor de custo do produto: \"))\n",
    "y = int(input(\"E qual será a porcentagem de acrescimo para o valor de venda ? \"))\n",
    "\n",
    "produto = x + (x*y/100)\n",
    "\n",
    "print(f\"O valor de custo é{x}R$, somando a porcentagem de acrescimo de {y}%\")\n",
    "print(f\"O produto a valor de venda custará: {produto}\")"
   ]
  },
  {
   "cell_type": "code",
   "execution_count": 49,
   "id": "2e30081b",
   "metadata": {},
   "outputs": [
    {
     "name": "stdout",
     "output_type": "stream",
     "text": [
      "Informe o custo de fabrica do carro selecionado: 10000\n",
      "o custo de fabrica esta em 10000.0R$, fazendo o acrescimo do imposto e do custo do destribuidor\n",
      "teremos o preço final do consumidor em 18560.0R$\n"
     ]
    }
   ],
   "source": [
    "\"\"\"\n",
    "Exercício 5.22: O custo ao consumidor de um carro novo é a soma do custo de fábrica com a \n",
    "percentagem do distribuidor e dos impostos (aplicados, primeiro os impostos sobre o custo de \n",
    "fábrica, e depois a percentagem do distribuidor sobre o resultado). Supondo que a \n",
    "percentagem do distribuidor seja de 28% e os impostos 45%. Escrever um programa que leia \n",
    "o custo de fábrica de um carro e informe o custo ao consumidor do mesmo.\n",
    "\n",
    "\"\"\"\n",
    "\n",
    "cf = float(input(\"Informe o custo de fabrica do carro selecionado: \"))\n",
    "\n",
    "ci = cf + (cf* 45/100) #imposto\n",
    "cc = ci + (ci* 28/100) #distribuidor\n",
    "\n",
    "print(f\"o custo de fabrica esta em {cf}R$, fazendo o acrescimo do imposto e do custo do destribuidor\")\n",
    "print(f\"teremos o preço final do consumidor em {cc}R$\")"
   ]
  },
  {
   "cell_type": "code",
   "execution_count": null,
   "id": "a71b95bc",
   "metadata": {},
   "outputs": [],
   "source": []
  }
 ],
 "metadata": {
  "kernelspec": {
   "display_name": "Python 3 (ipykernel)",
   "language": "python",
   "name": "python3"
  },
  "language_info": {
   "codemirror_mode": {
    "name": "ipython",
    "version": 3
   },
   "file_extension": ".py",
   "mimetype": "text/x-python",
   "name": "python",
   "nbconvert_exporter": "python",
   "pygments_lexer": "ipython3",
   "version": "3.9.7"
  }
 },
 "nbformat": 4,
 "nbformat_minor": 5
}
