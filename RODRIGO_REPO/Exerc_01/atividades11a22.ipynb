{
 "cells": [
  {
   "cell_type": "code",
   "execution_count": 3,
   "id": "b02550a2",
   "metadata": {},
   "outputs": [
    {
     "name": "stdout",
     "output_type": "stream",
     "text": [
      "Digite o primeiro valor: 3\n",
      "Digite o segundo valor: 3\n",
      "Soma:  3  +  3  =  6\n"
     ]
    }
   ],
   "source": [
    "# Exercício 5.11: Faça um programa que receba dois números e exiba o resultado da sua soma.\n",
    "\n",
    "num1 = int(input(\"Digite o primeiro valor: \"))\n",
    "num2 = int(input(\"Digite o segundo valor: \"))\n",
    "print(\"Soma: \",num1,\" + \",num2,\" = \",(num1+num2))"
   ]
  },
  {
   "cell_type": "code",
   "execution_count": 4,
   "id": "bd5be232",
   "metadata": {},
   "outputs": [
    {
     "name": "stdout",
     "output_type": "stream",
     "text": [
      "Digite o primeiro valor: 3\n",
      "Digite o segundo valor: 3\n",
      "3  +  3  =  6\n",
      "3  -  3  =  0\n",
      "3  *  3  =  9\n",
      "3  /  3  =  1.0\n"
     ]
    }
   ],
   "source": [
    "# Exercício 5.12: Faça um programa que receba dois números e ao final mostre a soma,\n",
    "# subtração, multiplicação e a divisão dos números lidos.\n",
    "\n",
    "num1 = int(input(\"Digite o primeiro valor: \"))\n",
    "num2 = int(input(\"Digite o segundo valor: \"))\n",
    "print(num1,\" + \",num2,\" = \",(num1+num2))\n",
    "print(num1,\" - \",num2,\" = \",(num1-num2))\n",
    "print(num1,\" * \",num2,\" = \",(num1*num2))\n",
    "print(num1,\" / \",num2,\" = \",(num1/num2))"
   ]
  },
  {
   "cell_type": "code",
   "execution_count": 8,
   "id": "80c306e0",
   "metadata": {},
   "outputs": [
    {
     "name": "stdout",
     "output_type": "stream",
     "text": [
      "Digite a distância a percorrer: 1500\n",
      "Digite a quantidade de combustível: 100\n",
      "15.0\n"
     ]
    }
   ],
   "source": [
    "# Exercício 5.13: Escrever um programa para determinar o consumo médio de um automóvel\n",
    "# sendo fornecida a distância total percorrida pelo automóvel e o total de combustível gasto.\n",
    "\n",
    "distancia = float(input(\"Digite a distância a percorrer: \"))\n",
    "combustivel = float(input(\"Digite a quantidade de combustível: \"))\n",
    "\n",
    "consumoMedio = distancia / combustivel\n",
    "\n",
    "print(consumoMedio)"
   ]
  },
  {
   "cell_type": "code",
   "execution_count": 12,
   "id": "437fdbcd",
   "metadata": {},
   "outputs": [
    {
     "name": "stdout",
     "output_type": "stream",
     "text": [
      "####################################################\n",
      "# Digite o nome do vendedor: Rodrigo\n",
      "# Digite o salário: 1510\n",
      "# Digite o valor total das vendas do mês: 3200\n",
      "####################################################\n",
      "# Vendedor:  Rodrigo\n",
      "# Salário + comissão:  1990.0\n",
      "####################################################\n"
     ]
    }
   ],
   "source": [
    "# Exercício 5.14: Escrever um programa que leia o nome de um vendedor, o seu salário fixo e o\n",
    "# total de vendas efetuadas por ele no mês (em dinheiro). Sabendo que este vendedor ganha\n",
    "# 15% de comissão sobre suas vendas efetuadas, informar o seu nome, o salário fixo e salário\n",
    "# no final do mês.\n",
    "\n",
    "print(\"####################################################\")\n",
    "nomeVendedor = input(\"# Digite o nome do vendedor: \")\n",
    "salario = float(input(\"# Digite o salário: \"))\n",
    "valorTotalVendas = float(input(\"# Digite o valor total das vendas do mês: \"))\n",
    "taxaComissao = 0.15\n",
    "\n",
    "salarioFinal = salario + (taxaComissao * valorTotalVendas)\n",
    "\n",
    "print(\"####################################################\")\n",
    "print(\"# Vendedor: \", nomeVendedor)\n",
    "print(\"# Salário + comissão: \", salarioFinal)\n",
    "print(\"####################################################\")"
   ]
  },
  {
   "cell_type": "code",
   "execution_count": 4,
   "id": "e301da07",
   "metadata": {},
   "outputs": [
    {
     "name": "stdout",
     "output_type": "stream",
     "text": [
      "####################################################\n",
      "# Digite o nome do aluno: Lucas\n",
      "# Digite a primeira nota: 3\n",
      "# Digite a segunda nota: 9\n",
      "# Digite a terceia nota: 9\n",
      "####################################################\n",
      "#  7.0\n",
      "####################################################\n"
     ]
    }
   ],
   "source": [
    "# 5.15: Escrever um programa que leia o nome de um aluno e as notas das três provas\n",
    "# que ele obteve no semestre. No final informar o nome do aluno e a sua média (aritmética).\n",
    "\n",
    "\n",
    "print(\"####################################################\")\n",
    "nomeVendedor = input(\"# Digite o nome do(a) aluno(a): \")\n",
    "nota1 = float(input(\"# Digite a primeira nota: \"))\n",
    "nota2 = float(input(\"# Digite a segunda nota: \"))\n",
    "nota3 = float(input(\"# Digite a terceia nota: \"))\n",
    "\n",
    "\n",
    "media = (nota1 + nota2 + nota3) / 3\n",
    "print(\"####################################################\")\n",
    "print(\"# \",media)\n",
    "print(\"####################################################\")"
   ]
  },
  {
   "cell_type": "code",
   "execution_count": 5,
   "id": "bbb16097",
   "metadata": {},
   "outputs": [
    {
     "name": "stdout",
     "output_type": "stream",
     "text": [
      "Digite o valor de A: 3\n",
      "Digite o valor de B: 6\n",
      "Valor de A:  6\n",
      "Valor de B:  3\n"
     ]
    }
   ],
   "source": [
    "# Exercício 5.16: Ler dois valores para as variáveis A e B, e efetuar as trocas dos valores de\n",
    "# forma que a variável A passe a possuir o valor da variável B e a variável B passe a possuir o\n",
    "# valor da variável A. Apresentar os valores.\n",
    "\n",
    "a = int(input(\"Digite o valor de A: \"))\n",
    "b = int(input(\"Digite o valor de B: \"))\n",
    "\n",
    "troca = a\n",
    "a = b\n",
    "b = troca\n",
    "\n",
    "print(\"Valor de A: \",a)\n",
    "print(\"Valor de B: \",b)"
   ]
  },
  {
   "cell_type": "code",
   "execution_count": 7,
   "id": "6026ffec",
   "metadata": {},
   "outputs": [
    {
     "name": "stdout",
     "output_type": "stream",
     "text": [
      "Informe a temperatura em °C: 65\n",
      "65.0 °C =  149.0 °F\n"
     ]
    }
   ],
   "source": [
    "# Exercício 5.17: Ler uma temperatura em graus Celsius e apresentá-la convertida em graus\n",
    "# Fahrenheit. A fórmula de conversão é: F=(9*C+160) / 5, sendo F a temperatura em Fahrenheit\n",
    "# e C a temperatura em Celsius.\n",
    "\n",
    "c = float(input(\"Informe a temperatura em °C: \"))\n",
    "f=(9*c+160) / 5\n",
    "print(c,\"°C = \",f,\"°F\")"
   ]
  },
  {
   "cell_type": "code",
   "execution_count": 12,
   "id": "45774069",
   "metadata": {},
   "outputs": [
    {
     "name": "stdout",
     "output_type": "stream",
     "text": [
      "Informe o valor em dólar: 9\n",
      "Informe o valor da cotação: 4.72\n",
      "\n",
      "Dólar:  9.0 \n",
      "Cotação:  4.72 \n",
      "Real:  42.48\n"
     ]
    }
   ],
   "source": [
    "# Exercício 5.18: Elaborar um programa que efetue a apresentação do valor da conversão em\n",
    "# real (R$) de um valor lido em dólar (US$). O algoritmo deverá solicitar o valor da cotação do\n",
    "# dólar e a quantidade de dólares disponíveis com o usuário.\n",
    "# 1 US$ = 4.72 R$\n",
    "\n",
    "dolar = float(input(\"Informe o valor em dólar: \"))\n",
    "cotacao = float(input(\"Informe o valor da cotação: \"))\n",
    "real = dolar * cotacao\n",
    "print(\"\")\n",
    "print(\"Dólar: \", dolar, \"\\nCotação: \",cotacao, \"\\nReal: \",real)\n"
   ]
  },
  {
   "cell_type": "code",
   "execution_count": 16,
   "id": "d2bb7ae5",
   "metadata": {},
   "outputs": [
    {
     "name": "stdout",
     "output_type": "stream",
     "text": [
      "Informe o valor ser depositado: 1200\n",
      "Valor com rendimento:  2040.0\n"
     ]
    }
   ],
   "source": [
    "# Exercício 5.19: Faça um programa que receba um valor que foi depositado e exiba o valor\n",
    "# com rendimento após um mês. Considere fixo o juro da poupança em 0,70% a. m.\n",
    "\n",
    "jurosPoupanca = 0.70\n",
    "valorDepositado = float(input(\"Informe o valor ser depositado: \"))\n",
    "\n",
    "valorComRedimento = valorDepositado + (valorDepositado * jurosPoupanca)\n",
    "\n",
    "print(\"Valor com rendimento: \", valorComRedimento)"
   ]
  },
  {
   "cell_type": "code",
   "execution_count": 17,
   "id": "3c3da8ca",
   "metadata": {},
   "outputs": [
    {
     "name": "stdout",
     "output_type": "stream",
     "text": [
      "Informe o valor do produto: 1200\n",
      "Valor da parcela:  240.0\n"
     ]
    }
   ],
   "source": [
    "# Exercício 5.20: A Loja Mamão com Açúcar está vendendo seus produtos em 5 (cinco)\n",
    "# prestações sem juros. Faça um Programa que receba um valor de uma compra e mostre o\n",
    "# valor das prestações.\n",
    "\n",
    "valorProduto = float(input(\"Informe o valor do produto: \"))\n",
    "parcela = 5\n",
    "\n",
    "valorParcela = valorProduto / parcela\n",
    "\n",
    "print(\"Valor da parcela: \", valorParcela)"
   ]
  },
  {
   "cell_type": "code",
   "execution_count": 22,
   "id": "5a6d457d",
   "metadata": {},
   "outputs": [
    {
     "ename": "KeyboardInterrupt",
     "evalue": "Interrupted by user",
     "output_type": "error",
     "traceback": [
      "\u001b[1;31m---------------------------------------------------------------------------\u001b[0m",
      "\u001b[1;31mKeyboardInterrupt\u001b[0m                         Traceback (most recent call last)",
      "\u001b[1;32mC:\\Users\\ALUNO1~1.IBC\\AppData\\Local\\Temp/ipykernel_9220/4103618210.py\u001b[0m in \u001b[0;36m<module>\u001b[1;34m\u001b[0m\n\u001b[0;32m      3\u001b[0m \u001b[1;31m# percentual informado pelo usuário.\u001b[0m\u001b[1;33m\u001b[0m\u001b[1;33m\u001b[0m\u001b[0m\n\u001b[0;32m      4\u001b[0m \u001b[1;33m\u001b[0m\u001b[0m\n\u001b[1;32m----> 5\u001b[1;33m \u001b[0mvalorCusto\u001b[0m \u001b[1;33m=\u001b[0m \u001b[0mfloat\u001b[0m\u001b[1;33m(\u001b[0m\u001b[0minput\u001b[0m\u001b[1;33m(\u001b[0m\u001b[1;34m\"Informe o valor de custo do produto: \"\u001b[0m\u001b[1;33m)\u001b[0m\u001b[1;33m)\u001b[0m\u001b[1;33m\u001b[0m\u001b[1;33m\u001b[0m\u001b[0m\n\u001b[0m\u001b[0;32m      6\u001b[0m \u001b[0macrescimo\u001b[0m \u001b[1;33m=\u001b[0m \u001b[0mfloat\u001b[0m\u001b[1;33m(\u001b[0m\u001b[0minput\u001b[0m\u001b[1;33m(\u001b[0m\u001b[1;34m\"Informe o valor do acréscimo a ser acrescentado no produto: \"\u001b[0m\u001b[1;33m)\u001b[0m\u001b[1;33m)\u001b[0m\u001b[1;33m\u001b[0m\u001b[1;33m\u001b[0m\u001b[0m\n\u001b[0;32m      7\u001b[0m \u001b[0mvalorVenda\u001b[0m \u001b[1;33m=\u001b[0m \u001b[0mvalorCusto\u001b[0m \u001b[1;33m+\u001b[0m \u001b[1;33m(\u001b[0m\u001b[0mvalorCusto\u001b[0m \u001b[1;33m*\u001b[0m \u001b[0macrescimo\u001b[0m \u001b[1;33m/\u001b[0m\u001b[1;36m100\u001b[0m\u001b[1;33m)\u001b[0m\u001b[1;33m\u001b[0m\u001b[1;33m\u001b[0m\u001b[0m\n",
      "\u001b[1;32m~\\Anaconda3\\lib\\site-packages\\ipykernel\\kernelbase.py\u001b[0m in \u001b[0;36mraw_input\u001b[1;34m(self, prompt)\u001b[0m\n\u001b[0;32m   1004\u001b[0m                 \u001b[1;34m\"raw_input was called, but this frontend does not support input requests.\"\u001b[0m\u001b[1;33m\u001b[0m\u001b[1;33m\u001b[0m\u001b[0m\n\u001b[0;32m   1005\u001b[0m             )\n\u001b[1;32m-> 1006\u001b[1;33m         return self._input_request(\n\u001b[0m\u001b[0;32m   1007\u001b[0m             \u001b[0mstr\u001b[0m\u001b[1;33m(\u001b[0m\u001b[0mprompt\u001b[0m\u001b[1;33m)\u001b[0m\u001b[1;33m,\u001b[0m\u001b[1;33m\u001b[0m\u001b[1;33m\u001b[0m\u001b[0m\n\u001b[0;32m   1008\u001b[0m             \u001b[0mself\u001b[0m\u001b[1;33m.\u001b[0m\u001b[0m_parent_ident\u001b[0m\u001b[1;33m[\u001b[0m\u001b[1;34m\"shell\"\u001b[0m\u001b[1;33m]\u001b[0m\u001b[1;33m,\u001b[0m\u001b[1;33m\u001b[0m\u001b[1;33m\u001b[0m\u001b[0m\n",
      "\u001b[1;32m~\\Anaconda3\\lib\\site-packages\\ipykernel\\kernelbase.py\u001b[0m in \u001b[0;36m_input_request\u001b[1;34m(self, prompt, ident, parent, password)\u001b[0m\n\u001b[0;32m   1049\u001b[0m             \u001b[1;32mexcept\u001b[0m \u001b[0mKeyboardInterrupt\u001b[0m\u001b[1;33m:\u001b[0m\u001b[1;33m\u001b[0m\u001b[1;33m\u001b[0m\u001b[0m\n\u001b[0;32m   1050\u001b[0m                 \u001b[1;31m# re-raise KeyboardInterrupt, to truncate traceback\u001b[0m\u001b[1;33m\u001b[0m\u001b[1;33m\u001b[0m\u001b[0m\n\u001b[1;32m-> 1051\u001b[1;33m                 \u001b[1;32mraise\u001b[0m \u001b[0mKeyboardInterrupt\u001b[0m\u001b[1;33m(\u001b[0m\u001b[1;34m\"Interrupted by user\"\u001b[0m\u001b[1;33m)\u001b[0m \u001b[1;32mfrom\u001b[0m \u001b[1;32mNone\u001b[0m\u001b[1;33m\u001b[0m\u001b[1;33m\u001b[0m\u001b[0m\n\u001b[0m\u001b[0;32m   1052\u001b[0m             \u001b[1;32mexcept\u001b[0m \u001b[0mException\u001b[0m\u001b[1;33m:\u001b[0m\u001b[1;33m\u001b[0m\u001b[1;33m\u001b[0m\u001b[0m\n\u001b[0;32m   1053\u001b[0m                 \u001b[0mself\u001b[0m\u001b[1;33m.\u001b[0m\u001b[0mlog\u001b[0m\u001b[1;33m.\u001b[0m\u001b[0mwarning\u001b[0m\u001b[1;33m(\u001b[0m\u001b[1;34m\"Invalid Message:\"\u001b[0m\u001b[1;33m,\u001b[0m \u001b[0mexc_info\u001b[0m\u001b[1;33m=\u001b[0m\u001b[1;32mTrue\u001b[0m\u001b[1;33m)\u001b[0m\u001b[1;33m\u001b[0m\u001b[1;33m\u001b[0m\u001b[0m\n",
      "\u001b[1;31mKeyboardInterrupt\u001b[0m: Interrupted by user"
     ]
    }
   ],
   "source": [
    "# Exercício 5.21: Faça um programa que receba o preço de custo de um produto e mostre o\n",
    "# valor de venda. Sabe-se que o preço de custo receberá um acréscimo de acordo com um\n",
    "# percentual informado pelo usuário.\n",
    "\n",
    "valorCusto = float(input(\"Informe o valor de custo do produto: \"))\n",
    "acrescimo = float(input(\"Informe o valor do acréscimo a ser acrescentado no produto: \"))\n",
    "valorVenda = valorCusto + (valorCusto * acrescimo /100)\n",
    "print(\"Valor de venda: \", valorVenda)"
   ]
  },
  {
   "cell_type": "code",
   "execution_count": 25,
   "id": "3a8fda69",
   "metadata": {},
   "outputs": [
    {
     "name": "stdout",
     "output_type": "stream",
     "text": [
      "Custo de fábrica: 10000\n",
      "Valor do carro para venda ao consumidor final:  17920.0\n"
     ]
    }
   ],
   "source": [
    "# Exercício 5.22: O custo ao consumidor de um carro novo é a soma do custo de fábrica com a\n",
    "# percentagem do distribuidor e dos impostos (aplicados, primeiro os impostos sobre o custo de\n",
    "# fábrica, e depois a percentagem do distribuidor sobre o resultado). Supondo que a\n",
    "# percentagem do distribuidor seja de 28% e os impostos 45%. Escrever um programa que leia\n",
    "# o custo de fábrica de um carro e informe o custo ao consumidor do mesmo.\n",
    "\n",
    "percentagemDistribuido = 0.28\n",
    "impostos = 0.40\n",
    "valorFabricaCarro = float(input(\"Custo de fábrica: \"))\n",
    "\n",
    "custoImpostos = valorFabricaCarro + (valorFabricaCarro * impostos)\n",
    "\n",
    "custoConsumidor = custoImpostos + (custoImpostos * percentagemDistribuido)\n",
    "\n",
    "print(\"Valor do carro para venda ao consumidor final: \", custoConsumidor)\n"
   ]
  },
  {
   "cell_type": "code",
   "execution_count": null,
   "id": "c153ef7d",
   "metadata": {},
   "outputs": [],
   "source": []
  }
 ],
 "metadata": {
  "kernelspec": {
   "display_name": "Python 3 (ipykernel)",
   "language": "python",
   "name": "python3"
  },
  "language_info": {
   "codemirror_mode": {
    "name": "ipython",
    "version": 3
   },
   "file_extension": ".py",
   "mimetype": "text/x-python",
   "name": "python",
   "nbconvert_exporter": "python",
   "pygments_lexer": "ipython3",
   "version": "3.9.7"
  }
 },
 "nbformat": 4,
 "nbformat_minor": 5
}
